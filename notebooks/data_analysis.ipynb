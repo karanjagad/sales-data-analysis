{
 "cells": [
  {
   "cell_type": "markdown",
   "metadata": {},
   "source": [
    "### 1) Clean and Analyse the Dataset\n",
    "\n",
    "* Create a Jupyter Notebook `data_analysis.ipynb` where you clean the dataset and analyze the relation between Sale Price and quantity for some products.\n",
    "\n",
    "* Save the cleaned dataset into `sales_data_cleaned.csv`."
   ]
  },
  {
   "cell_type": "code",
   "execution_count": 9,
   "metadata": {},
   "outputs": [],
   "source": [
    "import os\n",
    "import pandas as pd\n",
    "import logging"
   ]
  },
  {
   "cell_type": "code",
   "execution_count": 10,
   "metadata": {},
   "outputs": [],
   "source": [
    "file_path = os.path.join(\"../data/raw/sales_data.csv\")\n",
    "cleaned_file_path = os.path.join(\"../data/processed/sales_data_cleaned.csv\")\n",
    "log_file_path = os.path.join(\"../log/sales_data_cleaning.log\")"
   ]
  },
  {
   "cell_type": "code",
   "execution_count": 11,
   "metadata": {},
   "outputs": [],
   "source": [
    "# Configure logging\n",
    "logging.basicConfig(filename=log_file_path, level=logging.INFO)\n",
    "\n",
    "# Read the CSV file into a DataFrame\n",
    "df = pd.read_csv(file_path, sep=\";\")\n",
    "\n",
    "# log the number of rows and columns\n",
    "logging.info(f\"Initial number of rows: {df.shape[0]}\")\n",
    "logging.info(f\"Initial number of columns: {df.shape[1]}\")\n",
    "\n",
    "# Rename columns\n",
    "df.rename(\n",
    "    columns={\n",
    "        \"TransactionID\": \"transaction_id\",\n",
    "        \"ProductID\": \"product_id\",\n",
    "        \"Quantity\": \"quantity\",\n",
    "        \"SalePrice\": \"sale_price\",\n",
    "        \"PurchasePrice\": \"purchase_price\",\n",
    "    },\n",
    "    inplace=True,\n",
    ")\n",
    "\n",
    "\n",
    "logging.info(\"Columns renamed successfully.\")\n",
    "\n",
    "\n",
    "# Function to log dropped rows' transaction IDs\n",
    "def log_dropped_rows(df, operation):\n",
    "    dropped_transaction_ids = df.index.tolist()\n",
    "    logging.info(\n",
    "        f\"{len(dropped_transaction_ids)} rows dropped during {operation}: {dropped_transaction_ids}\"\n",
    "    )\n",
    "\n",
    "\n",
    "# Drop non-numeric rows from all columns\n",
    "for col in df.columns:\n",
    "    non_numeric_rows = df[pd.to_numeric(df[col], errors=\"coerce\").isnull()]\n",
    "    log_dropped_rows(non_numeric_rows, f\"dropping non-numeric rows in column '{col}'\")\n",
    "    df = df[pd.to_numeric(df[col], errors=\"coerce\").notnull()]\n",
    "\n",
    "\n",
    "# Drop rows with missing values\n",
    "missing_values = df[df.isnull().any(axis=1)]\n",
    "df = df.dropna()\n",
    "log_dropped_rows(missing_values, \"dropping rows with missing values\")\n",
    "\n",
    "# Drop duplicate rows\n",
    "duplicate_rows = df[df.duplicated()]\n",
    "df = df.drop_duplicates()\n",
    "log_dropped_rows(duplicate_rows, \"dropping duplicate rows\")\n",
    "\n",
    "# Convert columns to the correct data types\n",
    "df[\"transaction_id\"] = df[\"transaction_id\"].astype(int)\n",
    "df[\"product_id\"] = df[\"product_id\"].astype(int)\n",
    "df[\"quantity\"] = df[\"quantity\"].astype(int)\n",
    "df[\"sale_price\"] = df[\"sale_price\"].astype(float)\n",
    "df[\"purchase_price\"] = df[\"purchase_price\"].astype(float)\n",
    "\n",
    "\n",
    "logging.info(\"Columns converted to correct data types.\")\n",
    "\n",
    "logging.info(f\"Number of rows after cleaning: {df.shape[0]}\")\n",
    "logging.info(f\"Number of columns after cleaning: {df.shape[1]}\")"
   ]
  },
  {
   "cell_type": "code",
   "execution_count": 12,
   "metadata": {},
   "outputs": [
    {
     "name": "stdout",
     "output_type": "stream",
     "text": [
      "Data cleaning is done and saved in the file:  ../data/processed/sales_data_cleaned.csv\n",
      "Log file is saved in the file:  ../log/sales_data_cleaning.log\n"
     ]
    }
   ],
   "source": [
    "# Save the cleaned data to a new CSV file\n",
    "df.to_csv(cleaned_file_path, index=False)\n",
    "\n",
    "print(\"Data cleaning is done and saved in the file: \", cleaned_file_path)\n",
    "print(\"Log file is saved in the file: \", log_file_path)"
   ]
  }
 ],
 "metadata": {
  "kernelspec": {
   "display_name": ".venv",
   "language": "python",
   "name": "python3"
  },
  "language_info": {
   "codemirror_mode": {
    "name": "ipython",
    "version": 3
   },
   "file_extension": ".py",
   "mimetype": "text/x-python",
   "name": "python",
   "nbconvert_exporter": "python",
   "pygments_lexer": "ipython3",
   "version": "3.9.0"
  }
 },
 "nbformat": 4,
 "nbformat_minor": 2
}
