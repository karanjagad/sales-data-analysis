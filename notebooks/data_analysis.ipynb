{
 "cells": [
  {
   "cell_type": "markdown",
   "metadata": {},
   "source": [
    "### 1) Clean and Analyse the Dataset\n",
    "\n",
    "* Create a Jupyter Notebook `data_analysis.ipynb` where you clean the dataset and analyze the relation between Sale Price and Quantity for some products.\n",
    "\n",
    "* Save the cleaned dataset into `sales_data_cleaned.csv`."
   ]
  },
  {
   "cell_type": "code",
   "execution_count": 22,
   "metadata": {},
   "outputs": [],
   "source": [
    "import os\n",
    "import pandas as pd\n"
   ]
  },
  {
   "cell_type": "code",
   "execution_count": 25,
   "metadata": {},
   "outputs": [],
   "source": [
    "file_path = os.path.join(\"../data/raw/sales_data.csv\")\n",
    "cleaned_file_path = os.path.join(\"../data/processed/sales_data_cleaned.csv\")\n",
    "log_file_path = os.path.join(\"../log/sales_data_cleaning.log\")"
   ]
  },
  {
   "cell_type": "code",
   "execution_count": 33,
   "metadata": {},
   "outputs": [
    {
     "name": "stdout",
     "output_type": "stream",
     "text": [
      "Data cleaning is done and saved in the file:  ../data/processed/sales_data_cleaned.csv\n",
      "Log file is saved in the file:  ../log/sales_data_cleaning.log\n"
     ]
    }
   ],
   "source": [
    "# Read the CSV file into a DataFrame\n",
    "df = pd.read_csv(file_path, sep=\";\")\n",
    "\n",
    "# Drop rows with missing values and print the column TransactionID of the rows dropped\n",
    "missing_values = df[df.isnull().any(axis=1)]\n",
    "\n",
    "# Drop rows with missing values\n",
    "df = df.dropna()\n",
    "\n",
    "# Drop duplicate rows\n",
    "df = df.drop_duplicates()\n",
    "\n",
    "# Save the cleaned data to a new CSV file\n",
    "df = df.reset_index(drop=False)\n",
    "df.to_csv(cleaned_file_path, index=False)\n",
    "\n",
    "# save all the print statments in log file from root folder in log format\n",
    "\n",
    "with open(log_file_path, \"w\") as f:\n",
    "    f.write(\"size of the data set: \" + str(df.shape) + \"\\n\")\n",
    "    f.write(\"Rows with missing values: \" + str(missing_values[\"TransactionID\"]) + \"\\n\")\n",
    "    f.write(\n",
    "        \"size of the data set after dropping rows with missing values: \"\n",
    "        + str(df.shape)\n",
    "        + \"\\n\"\n",
    "    )\n",
    "    f.write(\n",
    "        \"size of the data set after dropping duplicate rows: \" + str(df.shape) + \"\\n\"\n",
    "    )\n",
    "    f.write(\"cleaned file path: \" + cleaned_file_path + \"\\n\")\n",
    "\n",
    "print(\"Data cleaning is done and saved in the file: \", cleaned_file_path)\n",
    "print(\"Log file is saved in the file: \", log_file_path)"
   ]
  }
 ],
 "metadata": {
  "kernelspec": {
   "display_name": ".venv",
   "language": "python",
   "name": "python3"
  },
  "language_info": {
   "codemirror_mode": {
    "name": "ipython",
    "version": 3
   },
   "file_extension": ".py",
   "mimetype": "text/x-python",
   "name": "python",
   "nbconvert_exporter": "python",
   "pygments_lexer": "ipython3",
   "version": "3.9.0"
  }
 },
 "nbformat": 4,
 "nbformat_minor": 2
}
